{
  "nbformat": 4,
  "nbformat_minor": 0,
  "metadata": {
    "colab": {
      "name": "chandler.ipynb",
      "version": "0.3.2",
      "provenance": [],
      "include_colab_link": true
    },
    "kernelspec": {
      "name": "python3",
      "display_name": "Python 3"
    },
    "accelerator": "GPU"
  },
  "cells": [
    {
      "cell_type": "markdown",
      "metadata": {
        "id": "view-in-github",
        "colab_type": "text"
      },
      "source": [
        "<a href=\"https://colab.research.google.com/github/vigneshdurairaj/Chandler_Bot/blob/master/chandler.ipynb\" target=\"_parent\"><img src=\"https://colab.research.google.com/assets/colab-badge.svg\" alt=\"Open In Colab\"/></a>"
      ]
    },
    {
      "cell_type": "code",
      "metadata": {
        "id": "-iCq__XIZZm2",
        "colab_type": "code",
        "colab": {}
      },
      "source": [
        "import numpy as np\n",
        "import pandas as pd\n",
        "import re\n",
        "\n",
        "from keras.models import Sequential\n",
        "from keras.layers.core import Dense, Activation, Dropout\n",
        "from keras.layers.recurrent import LSTM\n",
        "from keras.utils.data_utils import get_file\n",
        "from keras.callbacks import EarlyStopping\n",
        "from __future__ import print_function\n",
        "\n",
        "import random\n",
        "import sys"
      ],
      "execution_count": 0,
      "outputs": []
    },
    {
      "cell_type": "code",
      "metadata": {
        "id": "4Pv3cTytZsmX",
        "colab_type": "code",
        "colab": {}
      },
      "source": [
        "def split_data(df, train_perc = 0.8):\n",
        "    df['train'] = np.random.rand(len(df)) < train_perc\n",
        "    train = df[df.train == 1]\n",
        "    test = df[df.train == 0]\n",
        "    split_data ={'train': train, 'test': test}\n",
        "    return split_data\n",
        "\n",
        "def cleanstr(somestring):\n",
        "    rx = re.compile('\\W+')\n",
        "    return rx.sub(' ', somestring).strip()\n",
        "\n",
        "\n",
        "def sample(preds, temperature=1.0):\n",
        "  preds = np.asarray(preds).astype('float64')\n",
        "  preds = np.log(preds) / temperature\n",
        "  exp_preds = np.exp(preds)\n",
        "  preds = exp_preds / np.sum(exp_preds)\n",
        "  probas = np.random.multinomial(1, preds, 1)\n",
        "  return np.argmax(probas)\n",
        "    \n"
      ],
      "execution_count": 0,
      "outputs": []
    },
    {
      "cell_type": "code",
      "metadata": {
        "id": "Ugl160SQZ8u-",
        "colab_type": "code",
        "colab": {
          "base_uri": "https://localhost:8080/",
          "height": 176
        },
        "outputId": "2defd51e-2262-42f6-d836-a2918994e6ac"
      },
      "source": [
        "df = pd.read_csv('friends-transcripts corpus.txt',delimiter='\\t')\n",
        "df.head(3)"
      ],
      "execution_count": 7,
      "outputs": [
        {
          "output_type": "execute_result",
          "data": {
            "text/html": [
              "<div>\n",
              "<style scoped>\n",
              "    .dataframe tbody tr th:only-of-type {\n",
              "        vertical-align: middle;\n",
              "    }\n",
              "\n",
              "    .dataframe tbody tr th {\n",
              "        vertical-align: top;\n",
              "    }\n",
              "\n",
              "    .dataframe thead th {\n",
              "        text-align: right;\n",
              "    }\n",
              "</style>\n",
              "<table border=\"1\" class=\"dataframe\">\n",
              "  <thead>\n",
              "    <tr style=\"text-align: right;\">\n",
              "      <th></th>\n",
              "      <th>Season</th>\n",
              "      <th>Episode</th>\n",
              "      <th>Season &amp; Episode</th>\n",
              "      <th>Title</th>\n",
              "      <th>Author</th>\n",
              "      <th>Quote</th>\n",
              "    </tr>\n",
              "  </thead>\n",
              "  <tbody>\n",
              "    <tr>\n",
              "      <th>0</th>\n",
              "      <td>d</td>\n",
              "      <td>d</td>\n",
              "      <td>d</td>\n",
              "      <td>d</td>\n",
              "      <td>d</td>\n",
              "      <td>string</td>\n",
              "    </tr>\n",
              "    <tr>\n",
              "      <th>1</th>\n",
              "      <td>meta</td>\n",
              "      <td>meta</td>\n",
              "      <td>meta</td>\n",
              "      <td>meta</td>\n",
              "      <td>meta</td>\n",
              "      <td>include=True</td>\n",
              "    </tr>\n",
              "    <tr>\n",
              "      <th>2</th>\n",
              "      <td>01</td>\n",
              "      <td>01</td>\n",
              "      <td>0101</td>\n",
              "      <td>The One Where Monica Gets A Roommate</td>\n",
              "      <td>Monica</td>\n",
              "      <td>There's nothing to tell! He's just some guyI ...</td>\n",
              "    </tr>\n",
              "  </tbody>\n",
              "</table>\n",
              "</div>"
            ],
            "text/plain": [
              "  Season Episode  ...  Author                                              Quote\n",
              "0      d       d  ...       d                                             string\n",
              "1   meta    meta  ...    meta                                       include=True\n",
              "2     01      01  ...  Monica   There's nothing to tell! He's just some guyI ...\n",
              "\n",
              "[3 rows x 6 columns]"
            ]
          },
          "metadata": {
            "tags": []
          },
          "execution_count": 7
        }
      ]
    },
    {
      "cell_type": "code",
      "metadata": {
        "id": "qqbjx8xXaEzb",
        "colab_type": "code",
        "colab": {
          "base_uri": "https://localhost:8080/",
          "height": 142
        },
        "outputId": "41ec3153-c7d1-4f3e-8ae7-77e00ff623da"
      },
      "source": [
        "df = df[2:]\n",
        "df.drop(\"Season & Episode\", axis=1 , inplace=True)\n",
        "df.head(3)\n"
      ],
      "execution_count": 8,
      "outputs": [
        {
          "output_type": "execute_result",
          "data": {
            "text/html": [
              "<div>\n",
              "<style scoped>\n",
              "    .dataframe tbody tr th:only-of-type {\n",
              "        vertical-align: middle;\n",
              "    }\n",
              "\n",
              "    .dataframe tbody tr th {\n",
              "        vertical-align: top;\n",
              "    }\n",
              "\n",
              "    .dataframe thead th {\n",
              "        text-align: right;\n",
              "    }\n",
              "</style>\n",
              "<table border=\"1\" class=\"dataframe\">\n",
              "  <thead>\n",
              "    <tr style=\"text-align: right;\">\n",
              "      <th></th>\n",
              "      <th>Season</th>\n",
              "      <th>Episode</th>\n",
              "      <th>Title</th>\n",
              "      <th>Author</th>\n",
              "      <th>Quote</th>\n",
              "    </tr>\n",
              "  </thead>\n",
              "  <tbody>\n",
              "    <tr>\n",
              "      <th>2</th>\n",
              "      <td>01</td>\n",
              "      <td>01</td>\n",
              "      <td>The One Where Monica Gets A Roommate</td>\n",
              "      <td>Monica</td>\n",
              "      <td>There's nothing to tell! He's just some guyI ...</td>\n",
              "    </tr>\n",
              "    <tr>\n",
              "      <th>3</th>\n",
              "      <td>01</td>\n",
              "      <td>01</td>\n",
              "      <td>The One Where Monica Gets A Roommate</td>\n",
              "      <td>Joey</td>\n",
              "      <td>C'mon, you're going out with the guy! There's...</td>\n",
              "    </tr>\n",
              "    <tr>\n",
              "      <th>4</th>\n",
              "      <td>01</td>\n",
              "      <td>01</td>\n",
              "      <td>The One Where Monica Gets A Roommate</td>\n",
              "      <td>Chandler</td>\n",
              "      <td>All right Joey, benice.  So does he have a hu...</td>\n",
              "    </tr>\n",
              "  </tbody>\n",
              "</table>\n",
              "</div>"
            ],
            "text/plain": [
              "  Season Episode  ...    Author                                              Quote\n",
              "2     01      01  ...    Monica   There's nothing to tell! He's just some guyI ...\n",
              "3     01      01  ...      Joey   C'mon, you're going out with the guy! There's...\n",
              "4     01      01  ...  Chandler   All right Joey, benice.  So does he have a hu...\n",
              "\n",
              "[3 rows x 5 columns]"
            ]
          },
          "metadata": {
            "tags": []
          },
          "execution_count": 8
        }
      ]
    },
    {
      "cell_type": "code",
      "metadata": {
        "id": "gE_F79NIbPyU",
        "colab_type": "code",
        "colab": {
          "base_uri": "https://localhost:8080/",
          "height": 111
        },
        "outputId": "a5402138-a306-4a31-c5fa-250642141628"
      },
      "source": [
        "df.Season = pd.to_numeric(df.Season , errors='raise')\n",
        "df.Episode = pd.to_numeric(df.Episode, errors='coerce')\n",
        "df.Episode = df.Episode.replace(np.nan , 17)\n",
        "df.Title = df.Title.astype(str)\n",
        "df.Quote = df.Quote.astype(str)\n",
        "df.Author = df.Author.astype(str)\n",
        "df.head(2)"
      ],
      "execution_count": 9,
      "outputs": [
        {
          "output_type": "execute_result",
          "data": {
            "text/html": [
              "<div>\n",
              "<style scoped>\n",
              "    .dataframe tbody tr th:only-of-type {\n",
              "        vertical-align: middle;\n",
              "    }\n",
              "\n",
              "    .dataframe tbody tr th {\n",
              "        vertical-align: top;\n",
              "    }\n",
              "\n",
              "    .dataframe thead th {\n",
              "        text-align: right;\n",
              "    }\n",
              "</style>\n",
              "<table border=\"1\" class=\"dataframe\">\n",
              "  <thead>\n",
              "    <tr style=\"text-align: right;\">\n",
              "      <th></th>\n",
              "      <th>Season</th>\n",
              "      <th>Episode</th>\n",
              "      <th>Title</th>\n",
              "      <th>Author</th>\n",
              "      <th>Quote</th>\n",
              "    </tr>\n",
              "  </thead>\n",
              "  <tbody>\n",
              "    <tr>\n",
              "      <th>2</th>\n",
              "      <td>1</td>\n",
              "      <td>1.0</td>\n",
              "      <td>The One Where Monica Gets A Roommate</td>\n",
              "      <td>Monica</td>\n",
              "      <td>There's nothing to tell! He's just some guyI ...</td>\n",
              "    </tr>\n",
              "    <tr>\n",
              "      <th>3</th>\n",
              "      <td>1</td>\n",
              "      <td>1.0</td>\n",
              "      <td>The One Where Monica Gets A Roommate</td>\n",
              "      <td>Joey</td>\n",
              "      <td>C'mon, you're going out with the guy! There's...</td>\n",
              "    </tr>\n",
              "  </tbody>\n",
              "</table>\n",
              "</div>"
            ],
            "text/plain": [
              "   Season  Episode  ...  Author                                              Quote\n",
              "2       1      1.0  ...  Monica   There's nothing to tell! He's just some guyI ...\n",
              "3       1      1.0  ...    Joey   C'mon, you're going out with the guy! There's...\n",
              "\n",
              "[2 rows x 5 columns]"
            ]
          },
          "metadata": {
            "tags": []
          },
          "execution_count": 9
        }
      ]
    },
    {
      "cell_type": "code",
      "metadata": {
        "id": "_Ukg4pEHbTho",
        "colab_type": "code",
        "colab": {}
      },
      "source": [
        "Dataset = split_data(df , train_perc=0.8)"
      ],
      "execution_count": 0,
      "outputs": []
    },
    {
      "cell_type": "code",
      "metadata": {
        "id": "eFF5gYWVb8xF",
        "colab_type": "code",
        "colab": {
          "base_uri": "https://localhost:8080/",
          "height": 51
        },
        "outputId": "af92031d-3188-4f07-fe7d-ed43da60337c"
      },
      "source": [
        "text = ' '.join(Dataset['train'].Quote[Dataset['train'].Author == 'Chandler'].tolist())\n",
        "text = text.lower()\n",
        "print('Total Dialogues', len(text))\n",
        "chars = set(text)\n",
        "print(text[:40])"
      ],
      "execution_count": 64,
      "outputs": [
        {
          "output_type": "stream",
          "text": [
            "Total Dialogues 372838\n",
            " all right joey, benice.  so does he hav\n"
          ],
          "name": "stdout"
        }
      ]
    },
    {
      "cell_type": "code",
      "metadata": {
        "id": "h6FflYNecqv4",
        "colab_type": "code",
        "colab": {}
      },
      "source": [
        "char_indices = dict((c, i) for i, c in enumerate(chars))\n",
        "indices_char = dict((i, c) for i, c in enumerate(chars))"
      ],
      "execution_count": 0,
      "outputs": []
    },
    {
      "cell_type": "code",
      "metadata": {
        "id": "wW1BgrAHcsPP",
        "colab_type": "code",
        "colab": {
          "base_uri": "https://localhost:8080/",
          "height": 51
        },
        "outputId": "861a0062-bf18-4a46-9f1d-79eea1049961"
      },
      "source": [
        "maxlen = 40\n",
        "step = 3\n",
        "sentences = []\n",
        "next_chars = []\n",
        "for i in range(0, len(text) - maxlen, step):\n",
        "    sentences.append(text[i: i + maxlen])\n",
        "    next_chars.append(text[i + maxlen])\n",
        "print('nb sequences:', len(sentences))\n",
        "\n",
        "print('Vectorization...')\n",
        "X = np.zeros((len(sentences), maxlen, len(chars)), dtype=np.bool)\n",
        "y = np.zeros((len(sentences), len(chars)), dtype=np.bool)\n",
        "for i, sentence in enumerate(sentences):\n",
        "    for t, char in enumerate(sentence):\n",
        "        X[i, t, char_indices[char]] = 1\n",
        "    y[i, char_indices[next_chars[i]]] = 1"
      ],
      "execution_count": 36,
      "outputs": [
        {
          "output_type": "stream",
          "text": [
            "nb sequences: 124266\n",
            "Vectorization...\n"
          ],
          "name": "stdout"
        }
      ]
    },
    {
      "cell_type": "code",
      "metadata": {
        "id": "njEfZ9l2c39R",
        "colab_type": "code",
        "colab": {}
      },
      "source": [
        "\n",
        "model = Sequential()\n",
        "model.add(LSTM(512, return_sequences=True, input_shape=(maxlen, len(chars))))\n",
        "model.add(Dropout(0.2))\n",
        "model.add(LSTM(512, return_sequences=False))\n",
        "model.add(Dropout(0.2))\n",
        "model.add(Dense(len(chars)))\n",
        "model.add(Activation('softmax'))"
      ],
      "execution_count": 0,
      "outputs": []
    },
    {
      "cell_type": "code",
      "metadata": {
        "id": "qKm4WgAzdA_r",
        "colab_type": "code",
        "colab": {}
      },
      "source": [
        "model.compile(loss='categorical_crossentropy', optimizer='rmsprop')"
      ],
      "execution_count": 0,
      "outputs": []
    },
    {
      "cell_type": "code",
      "metadata": {
        "id": "EfoM-pvVkhvp",
        "colab_type": "code",
        "colab": {
          "base_uri": "https://localhost:8080/",
          "height": 258
        },
        "outputId": "6c7f7ec9-7d49-4ac8-da34-3af83313dde6"
      },
      "source": [
        "model.fit(X, y, batch_size=128, nb_epoch=5, callbacks=[EarlyStopping(monitor='loss', min_delta=0, patience=0, verbose=0, mode='auto', baseline=None, restore_best_weights=False)])\n"
      ],
      "execution_count": 61,
      "outputs": [
        {
          "output_type": "stream",
          "text": [
            "/usr/local/lib/python3.6/dist-packages/ipykernel_launcher.py:1: UserWarning: The `nb_epoch` argument in `fit` has been renamed `epochs`.\n",
            "  \"\"\"Entry point for launching an IPython kernel.\n"
          ],
          "name": "stderr"
        },
        {
          "output_type": "stream",
          "text": [
            "Epoch 1/5\n",
            "124266/124266 [==============================] - 221s 2ms/step - loss: 2.3298\n",
            "Epoch 2/5\n",
            "124266/124266 [==============================] - 220s 2ms/step - loss: 1.7945\n",
            "Epoch 3/5\n",
            "124266/124266 [==============================] - 219s 2ms/step - loss: 1.6174\n",
            "Epoch 4/5\n",
            "124266/124266 [==============================] - 220s 2ms/step - loss: 1.5003\n",
            "Epoch 5/5\n",
            "124266/124266 [==============================] - 220s 2ms/step - loss: 1.4054\n"
          ],
          "name": "stdout"
        },
        {
          "output_type": "execute_result",
          "data": {
            "text/plain": [
              "<keras.callbacks.History at 0x7fcb3fdbaeb8>"
            ]
          },
          "metadata": {
            "tags": []
          },
          "execution_count": 61
        }
      ]
    },
    {
      "cell_type": "code",
      "metadata": {
        "id": "WxuakxaSkmal",
        "colab_type": "code",
        "colab": {}
      },
      "source": [
        "model.save('chandler_F.h5')"
      ],
      "execution_count": 0,
      "outputs": []
    },
    {
      "cell_type": "code",
      "metadata": {
        "id": "Z7B9xd5kdCTP",
        "colab_type": "code",
        "colab": {
          "base_uri": "https://localhost:8080/",
          "height": 1000
        },
        "outputId": "4629c1aa-653a-41b0-eca9-cf0fbc78deae"
      },
      "source": [
        "for iteration in range(1, 10):\n",
        "    print()\n",
        "    print('-' * 50)\n",
        "    print('Iteration', iteration)\n",
        "\n",
        "    \n",
        "\n",
        "    start_index = random.randint(0, len(text) - maxlen - 1)\n",
        "    for diversity in [0.2, 0.5, 1.0, 1.2]:\n",
        "        print()\n",
        "        print('----- diversity:', diversity)\n",
        "        generated = ''\n",
        "        sentence = text[start_index: start_index + maxlen]\n",
        "        generated += sentence\n",
        "        print('----- Generating with seed: \"' + sentence + '\"')\n",
        "        sys.stdout.write(generated)\n",
        "        for i in range(50):\n",
        "            x = np.zeros((1, maxlen, len(chars)))\n",
        "            for t, char in enumerate(sentence):\n",
        "                x[0, t, char_indices[char]] = 1.\n",
        "            preds = model.predict(x, verbose=0)[0]\n",
        "            next_index = sample(preds, diversity)\n",
        "            next_char = indices_char[next_index]\n",
        "            generated += next_char\n",
        "            sentence = sentence[1:] + next_char\n",
        "            sys.stdout.write(next_char)\n",
        "            sys.stdout.flush()\n",
        "        print()\n"
      ],
      "execution_count": 71,
      "outputs": [
        {
          "output_type": "stream",
          "text": [
            "\n",
            "--------------------------------------------------\n",
            "Iteration 1\n",
            "\n",
            "----- diversity: 0.2\n",
            "----- Generating with seed: \"over again.  i mean synchronized swimmin\"\n",
            "over again.  i mean synchronized swimming to go out there.   oh, that's the world be a lit\n",
            "\n",
            "----- diversity: 0.5\n",
            "----- Generating with seed: \"over again.  i mean synchronized swimmin\"\n",
            "over again.  i mean synchronized swimming to still see of that.   you think it was been a \n",
            "\n",
            "----- diversity: 1.0\n",
            "----- Generating with seed: \"over again.  i mean synchronized swimmin\"\n",
            "over again.  i mean synchronized swimming for as us the beendar.  and you thought i can to\n",
            "\n",
            "----- diversity: 1.2\n",
            "----- Generating with seed: \"over again.  i mean synchronized swimmin\"\n",
            "over again.  i mean synchronized swimming wrolaz.  for one dadn. and we really. you can dn\n",
            "\n",
            "--------------------------------------------------\n",
            "Iteration 2\n",
            "\n",
            "----- diversity: 0.2\n",
            "----- Generating with seed: \"hat youre crazy.  heres another plann\"\n",
            "hat youre crazy.  heres another plannow think i was really hours. i cant get her a lit\n",
            "\n",
            "----- diversity: 0.5\n",
            "----- Generating with seed: \"hat youre crazy.  heres another plann\"\n",
            "hat youre crazy.  heres another planno tern to the would be the with the coffee needs t\n",
            "\n",
            "----- diversity: 1.0\n",
            "----- Generating with seed: \"hat youre crazy.  heres another plann\"\n",
            "hat youre crazy.  heres another plannand!\"  yeah, i thought marning.! tere to you, ill\n",
            "\n",
            "----- diversity: 1.2\n",
            "----- Generating with seed: \"hat youre crazy.  heres another plann\"\n",
            "hat youre crazy.  heres another plannothon and i'll in there off.  oh, honey, -you're \"\n",
            "\n",
            "--------------------------------------------------\n",
            "Iteration 3\n",
            "\n",
            "----- diversity: 0.2\n",
            "----- Generating with seed: \"oss from the car backfire, buty'know, it\"\n",
            "oss from the car backfire, buty'know, it's the will be a woman and you can do that.  yeah,\n",
            "\n",
            "----- diversity: 0.5\n",
            "----- Generating with seed: \"oss from the car backfire, buty'know, it\"\n",
            "oss from the car backfire, buty'know, it's the seet.  does sho get me me world as in fact,\n",
            "\n",
            "----- diversity: 1.0\n",
            "----- Generating with seed: \"oss from the car backfire, buty'know, it\"\n",
            "oss from the car backfire, buty'know, it's howgurt. ismand if i'll heet me and uallate.  a\n",
            "\n",
            "----- diversity: 1.2\n",
            "----- Generating with seed: \"oss from the car backfire, buty'know, it\"\n",
            "oss from the car backfire, buty'know, its a heming came of roch. 'll y know, brokenr bee\n",
            "\n",
            "--------------------------------------------------\n",
            "Iteration 4\n",
            "\n",
            "----- diversity: 0.2\n",
            "----- Generating with seed: \" do you?    look at these videos. you kn\"\n",
            " do you?    look at these videos. you know what i mean.  i think i was tood the picket to \n",
            "\n",
            "----- diversity: 0.5\n",
            "----- Generating with seed: \" do you?    look at these videos. you kn\"\n",
            " do you?    look at these videos. you know what? its a little good.   i was really bodd o\n",
            "\n",
            "----- diversity: 1.0\n",
            "----- Generating with seed: \" do you?    look at these videos. you kn\"\n",
            " do you?    look at these videos. you know, what? who?ure you were doing,  pareytus, we h\n",
            "\n",
            "----- diversity: 1.2\n",
            "----- Generating with seed: \" do you?    look at these videos. you kn\"\n",
            " do you?    look at these videos. you know, i mose it! its a raby all the's streit, one, \n",
            "\n",
            "--------------------------------------------------\n",
            "Iteration 5\n",
            "\n",
            "----- diversity: 0.2\n",
            "----- Generating with seed: \" feel youger already!   oh, thank you, s\"\n",
            " feel youger already!   oh, thank you, so who does it was my friends in there thing.   oh,\n",
            "\n",
            "----- diversity: 0.5\n",
            "----- Generating with seed: \" feel youger already!   oh, thank you, s\"\n",
            " feel youger already!   oh, thank you, so, and i want to say that were forgut it over to \n",
            "\n",
            "----- diversity: 1.0\n",
            "----- Generating with seed: \" feel youger already!   oh, thank you, s\"\n",
            " feel youger already!   oh, thank you, she isever to a veap.  no no-no-no-no-no-no-no, i'l\n",
            "\n",
            "----- diversity: 1.2\n",
            "----- Generating with seed: \" feel youger already!   oh, thank you, s\"\n",
            " feel youger already!   oh, thank you, so whates up!  theres something! sides big-comen. \n",
            "\n",
            "--------------------------------------------------\n",
            "Iteration 6\n",
            "\n",
            "----- diversity: 0.2\n",
            "----- Generating with seed: \"no way. im not answeringthat.   this co\"\n",
            "no way. im not answeringthat.   this could be a with the coffee that problem one the worl\n",
            "\n",
            "----- diversity: 0.5\n",
            "----- Generating with seed: \"no way. im not answeringthat.   this co\"\n",
            "no way. im not answeringthat.   this comme!  hey!   oh, what are you doing?  what?  hey! \n",
            "\n",
            "----- diversity: 1.0\n",
            "----- Generating with seed: \"no way. im not answeringthat.   this co\"\n",
            "no way. im not answeringthat.   this could be jreis ask the ball to just have abain,.... \n",
            "\n",
            "----- diversity: 1.2\n",
            "----- Generating with seed: \"no way. im not answeringthat.   this co\"\n",
            "no way. im not answeringthat.   this coull'ly in alwell's ruds. he's not truep. i ares al\n",
            "\n",
            "--------------------------------------------------\n",
            "Iteration 7\n",
            "\n",
            "----- diversity: 0.2\n",
            "----- Generating with seed: \"w, my cousin went to hell on a football \"\n",
            "w, my cousin went to hell on a football to you think i was tood the presents and say the c\n",
            "\n",
            "----- diversity: 0.5\n",
            "----- Generating with seed: \"w, my cousin went to hell on a football \"\n",
            "w, my cousin went to hell on a football the thing!  that is you got to do to the completio\n",
            "\n",
            "----- diversity: 1.0\n",
            "----- Generating with seed: \"w, my cousin went to hell on a football \"\n",
            "w, my cousin went to hell on a football coull you!   okay! good, ih wy all my fast.  okay,\n",
            "\n",
            "----- diversity: 1.2\n",
            "----- Generating with seed: \"w, my cousin went to hell on a football \"\n",
            "w, my cousin went to hell on a football that youre think okay, you oway!  excited it abli\n",
            "\n",
            "--------------------------------------------------\n",
            "Iteration 8\n",
            "\n",
            "----- diversity: 0.2\n",
            "----- Generating with seed: \"ult. what are you gonna do? not take her\"\n",
            "ult. what are you gonna do? not take her a lot of the seet of the world been the little be\n",
            "\n",
            "----- diversity: 0.5\n",
            "----- Generating with seed: \"ult. what are you gonna do? not take her\"\n",
            "ult. what are you gonna do? not take her that so that would be a with the month food story\n",
            "\n",
            "----- diversity: 1.0\n",
            "----- Generating with seed: \"ult. what are you gonna do? not take her\"\n",
            "ult. what are you gonna do? not take her the so. oppy uh, we're read! but you're just seen\n",
            "\n",
            "----- diversity: 1.2\n",
            "----- Generating with seed: \"ult. what are you gonna do? not take her\"\n",
            "ult. what are you gonna do? not take her e... i justchel it beaut?!  okey.  ...he's?! just\n",
            "\n",
            "--------------------------------------------------\n",
            "Iteration 9\n",
            "\n",
            "----- diversity: 0.2\n",
            "----- Generating with seed: \" and she's gonna be louder   out here to\"\n",
            " and she's gonna be louder   out here to the thing that is there was the compant of the pa\n",
            "\n",
            "----- diversity: 0.5\n",
            "----- Generating with seed: \" and she's gonna be louder   out here to\"\n",
            " and she's gonna be louder   out here to the playes?  okay, i am so sorry.  oh, yeah i don\n",
            "\n",
            "----- diversity: 1.0\n",
            "----- Generating with seed: \" and she's gonna be louder   out here to\"\n",
            " and she's gonna be louder   out here to you swill before bodyaget of to for me to be with\n",
            "\n",
            "----- diversity: 1.2\n",
            "----- Generating with seed: \" and she's gonna be louder   out here to\"\n",
            " and she's gonna be louder   out here to look the dogvermanda.   well, phoebse what reget.\n"
          ],
          "name": "stdout"
        }
      ]
    },
    {
      "cell_type": "code",
      "metadata": {
        "id": "xXjWihsCoE-9",
        "colab_type": "code",
        "colab": {}
      },
      "source": [
        ""
      ],
      "execution_count": 0,
      "outputs": []
    }
  ]
}